{
 "cells": [
  {
   "cell_type": "code",
   "execution_count": null,
   "metadata": {},
   "outputs": [],
   "source": [
    "ratio=1.12\n",
    "nday=7\n",
    "initial=1000\n",
    "final=initial*(ratio)**nday\n",
    "profit=final-initial\n",
    "print(\"If we had\",initial,\"dolar worth of bitcoin initially,\")\n",
    "print(\"with a ratio of %12 per day we would have {:.2f}\".format(profit))\n",
    "print(\"dolar profit at the end of\",nday,\"days.\")"
   ]
  },
  {
   "cell_type": "code",
   "execution_count": null,
   "metadata": {},
   "outputs": [],
   "source": [
    "fname = input(\"File Name: \")\n",
    "fname += \".py\"\n",
    "print(\"File name set as:\",fname)"
   ]
  }
 ],
 "metadata": {
  "kernelspec": {
   "display_name": "Python 3",
   "language": "python",
   "name": "python3"
  },
  "language_info": {
   "codemirror_mode": {
    "name": "ipython",
    "version": 3
   },
   "file_extension": ".py",
   "mimetype": "text/x-python",
   "name": "python",
   "nbconvert_exporter": "python",
   "pygments_lexer": "ipython3",
   "version": "3.7.3"
  }
 },
 "nbformat": 4,
 "nbformat_minor": 2
}
